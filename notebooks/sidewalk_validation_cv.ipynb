{
  "nbformat": 4,
  "nbformat_minor": 0,
  "metadata": {
    "colab": {
      "name": "sidewalk_validation_cv_Michael.ipynb",
      "provenance": [],
      "collapsed_sections": []
    },
    "kernelspec": {
      "name": "python3",
      "display_name": "Python 3"
    },
    "language_info": {
      "name": "python"
    },
    "accelerator": "GPU"
  },
  "cells": [
    {
      "cell_type": "markdown",
      "metadata": {
        "id": "fVBmao4gYd9j"
      },
      "source": [
        "Imports"
      ]
    },
    {
      "cell_type": "code",
      "metadata": {
        "id": "crX9O5Gz83w_"
      },
      "source": [
        "# pytorch imports\n",
        "import torch\n",
        "import torch.nn as nn\n",
        "import torch.nn.functional as F\n",
        "import torch.optim as optim\n",
        "from torch.optim import lr_scheduler\n",
        "from torch.utils.data import Dataset, DataLoader\n",
        "import torchvision\n",
        "from torchvision import transforms, utils\n",
        "from torchvision.io import read_image\n",
        "import torchvision.datasets as datasets\n",
        "import torchvision.models as models\n",
        "\n",
        "# other imports\n",
        "import copy\n",
        "import matplotlib.pyplot as plt\n",
        "import numpy as np\n",
        "import os\n",
        "import pandas as pd\n",
        "import itertools\n",
        "from distutils.dir_util import copy_tree\n",
        "from sklearn.metrics import confusion_matrix\n",
        "from time import perf_counter\n",
        "from PIL import Image"
      ],
      "execution_count": 2,
      "outputs": []
    },
    {
      "cell_type": "markdown",
      "metadata": {
        "id": "Sfq7OBgjFwQ8"
      },
      "source": [
        "Mount google drive for datasets\n"
      ]
    },
    {
      "cell_type": "code",
      "metadata": {
        "colab": {
          "base_uri": "https://localhost:8080/"
        },
        "id": "lg--88lVEt-M",
        "outputId": "4857518b-67e4-4595-b901-6c7514a017f3"
      },
      "source": [
        "from google.colab import drive\n",
        "drive.mount('/content/drive')\n",
        "!ls\n",
        "BASE_PATH = \"drive/My Drive/sidewalk_cv/\"\n",
        "os.chdir(BASE_PATH)\n",
        "if not os.path.exists('crops/'):\n",
        "  !unzip sidewalk_cv_medium_dataset.zip\n",
        "!ls\n",
        "os.chdir('/content')\n",
        "\n",
        "# Move file from gdrive to remote runtime disk\n",
        "# copy_tree(\"drive/MyDrive/sidewalk_cv/crops/\", \"/\")"
      ],
      "execution_count": 3,
      "outputs": [
        {
          "output_type": "stream",
          "name": "stdout",
          "text": [
            "Mounted at /content/drive\n",
            "drive  sample_data\n",
            "crop_info.csv  crops  sidewalk_cv_medium_dataset.zip  test\n"
          ]
        }
      ]
    },
    {
      "cell_type": "markdown",
      "metadata": {
        "id": "bsdu54IyYdQt"
      },
      "source": [
        "Check GPU"
      ]
    },
    {
      "cell_type": "code",
      "metadata": {
        "colab": {
          "base_uri": "https://localhost:8080/"
        },
        "id": "YgAHG4VsYcsf",
        "outputId": "1dec2580-eb7b-49b4-9d2e-18abc7d43a1a"
      },
      "source": [
        "if torch.cuda.is_available():  \n",
        "  dev = \"cuda\" \n",
        "else:  \n",
        "  dev = \"cpu\"\n",
        "device = torch.device(dev) \n",
        "print(device)"
      ],
      "execution_count": 4,
      "outputs": [
        {
          "output_type": "stream",
          "name": "stdout",
          "text": [
            "cuda\n"
          ]
        }
      ]
    },
    {
      "cell_type": "markdown",
      "metadata": {
        "id": "tDSVZfIdcepi"
      },
      "source": [
        "Load Dataset and partition into training, validation, and test sets"
      ]
    },
    {
      "cell_type": "code",
      "metadata": {
        "id": "Zn1JquEvchZQ",
        "colab": {
          "base_uri": "https://localhost:8080/"
        },
        "outputId": "90ca62a9-a012-4087-9407-94ba2cf03020"
      },
      "source": [
        "class SidewalkCropsDataset(Dataset):\n",
        "  def __init__(self, annotations_file, img_dir, transform=None, target_transform=None):\n",
        "    self.img_labels = pd.read_csv(annotations_file)\n",
        "    self.img_dir = img_dir\n",
        "    self.transform = transform\n",
        "    self.target_transform = target_transform\n",
        "\n",
        "  def __len__(self):\n",
        "    return len(self.img_labels)\n",
        "\n",
        "  def __getitem__(self, idx):\n",
        "    img_path = os.path.join(self.img_dir, self.img_labels.iloc[idx, 0])\n",
        "    image = Image.open(img_path)\n",
        "    label = self.img_labels.iloc[idx, 1]\n",
        "    if self.transform:\n",
        "      image = self.transform(image)\n",
        "    if self.target_transform:\n",
        "      label = self.target_transform(label)\n",
        "    return image, label\n",
        "\n",
        "image_transform = transforms.Compose([\n",
        "  transforms.Resize(256),\n",
        "  transforms.CenterCrop(224),\n",
        "  transforms.ToTensor(),\n",
        "  transforms.Normalize([0.485, 0.456, 0.406], [0.229, 0.224, 0.225])\n",
        "])\n",
        "\n",
        "batch_size = 96\n",
        "\n",
        "labels_csv_path = \"/content/drive/MyDrive/sidewalk_cv/crop_info.csv\"\n",
        "img_dir = \"/content/drive/MyDrive/sidewalk_cv/crops\"\n",
        "# train_labels_csv_path = \"/content/drive/MyDrive/sidewalk_cv/train_crop_info_1.csv\"\n",
        "# train_img_dir = \"/content/drive/MyDrive/sidewalk_cv/train_crops_1000\"\n",
        "\n",
        "# test_labels_csv_path = \"/content/drive/MyDrive/sidewalk_cv/test_crop_info.csv\"\n",
        "# test_img_dir = \"/content/drive/MyDrive/sidewalk_cv/test_crops\"\n",
        "\n",
        "# load our custom sidewalk crop dataset\n",
        "#train_set = SidewalkCropsDataset(train_labels_csv_path, train_img_dir, image_transform)\n",
        "dataset = SidewalkCropsDataset(labels_csv_path, img_dir, image_transform)\n",
        "\n",
        "# partition dataset into 80/10/10 split for train/validation/test\n",
        "k = .8\n",
        "dataset_size = len(dataset)\n",
        "train_size = int(k * dataset_size)\n",
        "val_size = int((dataset_size - train_size) / 2)\n",
        "test_size = dataset_size - train_size - val_size\n",
        "print(dataset_size)\n",
        "print(train_size)\n",
        "print(val_size)\n",
        "print(test_size)\n",
        "\n",
        "train_dataset, val_dataset, test_dataset = torch.utils.data.random_split(dataset, [train_size, val_size, test_size])\n",
        "train_dataloader = torch.utils.data.DataLoader(train_dataset, batch_size=batch_size, shuffle=True, num_workers=4)\n",
        "val_dataloader = torch.utils.data.DataLoader(val_dataset, batch_size=batch_size, shuffle=True, num_workers=4)\n",
        "\n",
        "print(len(train_dataset))\n",
        "print(len(val_dataset))\n",
        "print(len(test_dataset))\n",
        "\n",
        "# Do we want a dedicated test set?\n",
        "# test_dataset = SidewalkCropsDataset(test_labels_csv_path, test_img_dir, image_transform)\n",
        "\n",
        "test_dataloader = torch.utils.data.DataLoader(test_dataset, batch_size=batch_size, shuffle=False, num_workers=2)"
      ],
      "execution_count": 5,
      "outputs": [
        {
          "output_type": "stream",
          "name": "stdout",
          "text": [
            "50449\n",
            "40359\n",
            "5045\n",
            "5045\n",
            "40359\n",
            "5045\n",
            "5045\n"
          ]
        },
        {
          "output_type": "stream",
          "name": "stderr",
          "text": [
            "/usr/local/lib/python3.7/dist-packages/torch/utils/data/dataloader.py:481: UserWarning: This DataLoader will create 4 worker processes in total. Our suggested max number of worker in current system is 2, which is smaller than what this DataLoader is going to create. Please be aware that excessive worker creation might get DataLoader running slow or even freeze, lower the worker number to avoid potential slowness/freeze if necessary.\n",
            "  cpuset_checked))\n"
          ]
        }
      ]
    },
    {
      "cell_type": "markdown",
      "metadata": {
        "id": "gK9Tx1LeF2SB"
      },
      "source": [
        "Visualize inputs"
      ]
    },
    {
      "cell_type": "code",
      "metadata": {
        "id": "WAfGwX7TWl4j"
      },
      "source": [
        "#  for inputs, labels in test_dataloader:\n",
        "#    print(inputs.shape)\n",
        "#    plt.figure()\n",
        "#    plt.imshow(torch.squeeze(inputs).permute(1, 2, 0))\n",
        "#    plt.show()\n",
        "#    print(labels)"
      ],
      "execution_count": 6,
      "outputs": []
    },
    {
      "cell_type": "code",
      "metadata": {
        "id": "hRdcJtzt0IjV"
      },
      "source": [
        "def save_training_checkpoint(model, best_model_state, optimizer, scheduler, loss_train, loss_validation, epoch, path):\n",
        "  # add things like TPR, FPR later when we start evaluating them\n",
        "  torch.save({'model_state': model.state_dict(),\n",
        "              'best_model_state': best_model_state,\n",
        "              'optimizer_state': optimizer.state_dict(),\n",
        "              'scheduler_state': scheduler.state_dict(),\n",
        "              'loss_train': loss_train,\n",
        "              'loss_validation': loss_validation,\n",
        "              'epoch': epoch\n",
        "              }, path)\n",
        "  \n",
        "def load_training_checkpoint(model, optimizer, scheduler, path):\n",
        "  if not os.path.isfile(path):\n",
        "    return [], [], 0\n",
        "  checkpoint = torch.load(path)\n",
        "  model.load_state_dict(checkpoint['model_state'])\n",
        "  optimizer.load_state_dict(checkpoint['optimizer_state'])\n",
        "  scheduler.load_state_dict(checkpoint['scheduler_state'])\n",
        "  return checkpoint['loss_train'], checkpoint['loss_validation'], checkpoint['epoch']\n",
        "  \n",
        "def load_best_weights(model, path):\n",
        "  checkpoint = torch.load(path)\n",
        "  model.load_state_dict(checkpoint['best_model_state'])"
      ],
      "execution_count": 7,
      "outputs": []
    },
    {
      "cell_type": "markdown",
      "metadata": {
        "id": "pXM8CTizciEV"
      },
      "source": [
        "define train function"
      ]
    },
    {
      "cell_type": "code",
      "metadata": {
        "id": "_rUMLnFScouL"
      },
      "source": [
        "def train(model, optimizer, scheduler, loss_func, epochs, datasetLoaders, save_path, loss_train=[], loss_validation=[], start_epoch=0):\n",
        "  t_start = perf_counter()\n",
        "  loss_train = []\n",
        "  loss_validation = []\n",
        "\n",
        "  best_model_state = copy.deepcopy(model.state_dict())\n",
        "\n",
        "  for epoch in range(epochs):\n",
        "    print(\"Epoch \" + str(epoch) + \" out of \" + str(epochs))\n",
        "    for mode in ['training', 'validation']:\n",
        "      if mode == \"training\":\n",
        "        # Set model to training mode.\n",
        "        model.train()\n",
        "      else:\n",
        "        # Set model to evaluation mode for validation set.\n",
        "        model.eval()\n",
        "\n",
        "      # Get length of dataset for current mode\n",
        "      n = len(datasetLoaders[mode].dataset)\n",
        "\n",
        "      # Sum of losses over batches.\n",
        "      total_loss = 0\n",
        "\n",
        "      # Number of correct predictions.\n",
        "      total_correct = 0\n",
        "\n",
        "      epoch_count = 0\n",
        "\n",
        "      for inputs, labels in datasetLoaders[mode]:\n",
        "        inputs, labels = inputs.to(device), labels.to(device)\n",
        "        epoch_count += inputs.size(0)\n",
        "        print(\"percent {}\".format(epoch_count / n))\n",
        "        # For code brevity, we'll set the reset gradients for model params\n",
        "        # with the intention of using it for training.\n",
        "        # We'll use the set_grad_enabled to toggle whether we actually use the\n",
        "        # gradient for training/validation.\n",
        "        # https://pytorch.org/docs/stable/generated/torch.set_grad_enabled.html\n",
        "        optimizer.zero_grad()\n",
        "        use_grad = (mode == 'training')\n",
        "        with torch.set_grad_enabled(use_grad):\n",
        "          outputs = model(inputs)\n",
        "          loss = loss_func(outputs, labels)\n",
        "          _, preds = torch.max(outputs, 1)\n",
        "          if use_grad:\n",
        "            # We are training, so make sure to actually\n",
        "            # train by using loss/stepping.\n",
        "            loss.backward()\n",
        "            optimizer.step()\n",
        "\n",
        "        total_loss += loss.item() * inputs.size(0) # Averages over batch              \n",
        "        total_correct += (preds == labels.data).sum().item() # what is .data for?\n",
        "\n",
        "      # Calculate average loss over batches\n",
        "      loss_avg = total_loss / n\n",
        "\n",
        "      # Calculate accuracy\n",
        "      accuracy = total_correct / n\n",
        "      \n",
        "      print(\"mode: \" + mode + \", accuracy: \" + str(accuracy) + \", loss: \" + str(loss_avg))\n",
        "\n",
        "      if mode == 'validation':\n",
        "        # Record validation loss\n",
        "        loss_validation.append(loss_avg)\n",
        "\n",
        "        if accuracy > np.max(loss_validation):\n",
        "          # We found a better accuracy with these new weights, so save them\n",
        "          best_model_weights = copy.deepcopy(model.state_dict())\n",
        "\n",
        "      else:\n",
        "        # Record training accuracy\n",
        "        loss_train.append(loss_avg)\n",
        "\n",
        "        # make sure to step through lr update schedule\n",
        "        #scheduler.step()\n",
        "    if save_path:\n",
        "      save_training_checkpoint(model, best_model_state, optimizer, scheduler, loss_train, loss_validation, epoch, save_path)\n",
        "      \n",
        "    \n",
        "    print(\"\\n\")\n",
        "\n",
        "  t_stop = perf_counter()\n",
        "  print(\"Elapsed time during training in seconds\",\n",
        "                                        t_stop-t_start)\n",
        "  # Set our model with best weights\n",
        "  model.load_state_dict(best_model_weights)\n",
        "  return model, best_validation_accuracy, loss_train, loss_validation"
      ],
      "execution_count": 14,
      "outputs": []
    },
    {
      "cell_type": "markdown",
      "metadata": {
        "id": "o6MP7cqk0s9g"
      },
      "source": [
        "define evaluation function"
      ]
    },
    {
      "cell_type": "code",
      "metadata": {
        "id": "Z_8M3gjD0eRQ"
      },
      "source": [
        "def evaluate(model, loss_func, dataset_loader, test=False):\n",
        "  # Length of data set we are evaluating on.\n",
        "  n = len(dataset_loader.dataset)\n",
        "\n",
        "  # Initialize the prediction and label lists(tensors) for our confusion matrix\n",
        "  predlist=torch.zeros(0, dtype=torch.long, device='cpu')\n",
        "  lbllist=torch.zeros(0, dtype=torch.long, device='cpu')\n",
        "  conf_mat = None\n",
        "\n",
        "  # Correct predictions.\n",
        "  correct = 0\n",
        "  total_loss = 0\n",
        "  with torch.no_grad():\n",
        "    for inputs, labels in dataset_loader:\n",
        "      inputs, labels = inputs.to(device), labels.to(device)\n",
        "      outputs = model(inputs)\n",
        "      loss = loss_func(outputs, labels)\n",
        "      _, predictions = torch.max(outputs, 1)\n",
        "\n",
        "      # Append batch prediction results and labels\n",
        "      predlist=torch.cat([predlist, predictions.view(-1).cpu()])\n",
        "      lbllist=torch.cat([lbllist, labels.view(-1).cpu()])\n",
        "\n",
        "      total_loss += loss.item() * inputs.size(0) # Weighted average with size?\n",
        "      correct += (predictions == labels).sum().item() # what is labels.data\n",
        "\n",
        "  if test:\n",
        "    # Display a Confusion matrix\n",
        "    conf_mat = confusion_matrix(lbllist.numpy(), predlist.numpy())\n",
        "    print(conf_mat)\n",
        "\n",
        "  return  correct / n, total_loss / n, conf_mat"
      ],
      "execution_count": 15,
      "outputs": []
    },
    {
      "cell_type": "markdown",
      "metadata": {
        "id": "4cX1xYXDgCyv"
      },
      "source": [
        "Add Data Visualization Functions"
      ]
    },
    {
      "cell_type": "code",
      "metadata": {
        "id": "841vELadgCAw"
      },
      "source": [
        "def plot_confusion_matrix(cm, classes, normalize=False, title='Confusion matrix', cmap=plt.cm.Blues):\n",
        "    if normalize:\n",
        "        cm = cm.astype('float') / cm.sum(axis=1)[:, np.newaxis]\n",
        "        print(\"Normalized confusion matrix\")\n",
        "    else:\n",
        "        print('Confusion matrix, without normalization')\n",
        "\n",
        "    print(cm)\n",
        "    plt.imshow(cm, interpolation='nearest', cmap=cmap)\n",
        "    plt.title(title)\n",
        "    plt.colorbar()\n",
        "    tick_marks = np.arange(len(classes))\n",
        "    plt.xticks(tick_marks, classes, rotation=45)\n",
        "    plt.yticks(tick_marks, classes)\n",
        "\n",
        "    fmt = '.2f' if normalize else 'd'\n",
        "    thresh = cm.max() / 2.\n",
        "    for i, j in itertools.product(range(cm.shape[0]), range(cm.shape[1])):\n",
        "        plt.text(j, i, format(cm[i, j], fmt), horizontalalignment=\"center\", color=\"white\" if cm[i, j] > thresh else \"black\")\n",
        "\n",
        "    plt.tight_layout()\n",
        "    plt.ylabel('True label')\n",
        "    plt.xlabel('Predicted label')"
      ],
      "execution_count": 16,
      "outputs": []
    },
    {
      "cell_type": "markdown",
      "metadata": {
        "id": "_miLhZFkYmNj"
      },
      "source": [
        "Get ResNet50 for Fine Tuning (Transfer Learning)"
      ]
    },
    {
      "cell_type": "code",
      "metadata": {
        "id": "fj4FsOQBZp_Q"
      },
      "source": [
        "resnet50 = torchvision.models.resnet50(pretrained = True).to(device)\n",
        "num_ftrs = resnet50.fc.in_features\n",
        "resnet50.fc = nn.Linear(num_ftrs, 5) # (1,2,3,4) for label types, 0 for null crops \n",
        "\n",
        "lr = 0.01\n",
        "\n",
        "resnet50.to(device)\n",
        "loss_func = nn.CrossEntropyLoss()\n",
        "optimizer = torch.optim.Adam(resnet50.parameters(), lr=lr)\n",
        "scheduler = lr_scheduler.StepLR(optimizer, 10, gamma=0.1)\n",
        "checkpoint_save_path = BASE_PATH + \"training_test_saves\""
      ],
      "execution_count": 17,
      "outputs": []
    },
    {
      "cell_type": "markdown",
      "metadata": {
        "id": "CdwbQ41wgXAW"
      },
      "source": [
        "Train resnet for 25 epochs\n"
      ]
    },
    {
      "cell_type": "code",
      "metadata": {
        "id": "ta6GHhk8gb9W",
        "colab": {
          "base_uri": "https://localhost:8080/"
        },
        "outputId": "4af3ad39-c652-4ca3-c93d-6242c2cf7932"
      },
      "source": [
        "epochs = 20\n",
        "dataLoaders = {\n",
        "  \"training\": train_dataloader,\n",
        "  \"validation\": val_dataloader\n",
        "}\n",
        "loss_train, loss_validation, curr_epoch = load_training_checkpoint(resnet50, optimizer, scheduler, checkpoint_save_path)\n",
        "\n",
        "resnet50, best_validation_accuracy, loss_train, loss_validation = train(resnet50, optimizer, scheduler, loss_func, epochs, dataLoaders, loss_train, loss_validation, curr_epoch, checkpoint_save_path)\n",
        "print(\"Best validation accuracy: \", best_validation_accuracy)"
      ],
      "execution_count": null,
      "outputs": [
        {
          "output_type": "stream",
          "name": "stdout",
          "text": [
            "Epoch 0 out of 20\n"
          ]
        },
        {
          "output_type": "stream",
          "name": "stderr",
          "text": [
            "/usr/local/lib/python3.7/dist-packages/torch/utils/data/dataloader.py:481: UserWarning: This DataLoader will create 4 worker processes in total. Our suggested max number of worker in current system is 2, which is smaller than what this DataLoader is going to create. Please be aware that excessive worker creation might get DataLoader running slow or even freeze, lower the worker number to avoid potential slowness/freeze if necessary.\n",
            "  cpuset_checked))\n"
          ]
        },
        {
          "output_type": "stream",
          "name": "stdout",
          "text": [
            "percent 0.0023786516018731883\n",
            "percent 0.004757303203746377\n",
            "percent 0.007135954805619564\n",
            "percent 0.009514606407492753\n",
            "percent 0.01189325800936594\n",
            "percent 0.014271909611239128\n",
            "percent 0.016650561213112317\n",
            "percent 0.019029212814985506\n",
            "percent 0.021407864416858692\n",
            "percent 0.02378651601873188\n",
            "percent 0.02616516762060507\n",
            "percent 0.028543819222478256\n",
            "percent 0.030922470824351445\n",
            "percent 0.033301122426224634\n",
            "percent 0.03567977402809782\n",
            "percent 0.03805842562997101\n"
          ]
        }
      ]
    },
    {
      "cell_type": "markdown",
      "metadata": {
        "id": "PtOenigy1cha"
      },
      "source": [
        "Save model for future evaluations\n"
      ]
    },
    {
      "cell_type": "code",
      "metadata": {
        "id": "18m_dfLA0hj9"
      },
      "source": [
        "TRAINED_MODEL_PATH = \"drive/My Drive/sidewalk_cv/ft_resnet50.pt\"\n",
        "torch.save(resnet50.state_dict(), TRAINED_MODEL_PATH)"
      ],
      "execution_count": null,
      "outputs": []
    },
    {
      "cell_type": "markdown",
      "metadata": {
        "id": "RIKJEy1CgvSe"
      },
      "source": [
        "Visualization of training and validation loss over epochs"
      ]
    },
    {
      "cell_type": "code",
      "metadata": {
        "id": "dzQLBgk9gyUm",
        "colab": {
          "base_uri": "https://localhost:8080/",
          "height": 312
        },
        "outputId": "75d1fe23-cf08-426e-c3ee-0947374f0189"
      },
      "source": [
        "plt.plot(np.arange(epochs), loss_train, label=\"training loss\")\n",
        "plt.plot(np.arange(epochs), loss_validation, label=\"validation loss\")\n",
        "plt.title(\"Training/Validation loss for FT model\")\n",
        "plt.xlabel(\"epoch\")\n",
        "plt.ylabel(\"loss\")\n",
        "plt.legend()"
      ],
      "execution_count": null,
      "outputs": [
        {
          "output_type": "execute_result",
          "data": {
            "text/plain": [
              "<matplotlib.legend.Legend at 0x7efd6caceb10>"
            ]
          },
          "metadata": {},
          "execution_count": 10
        },
        {
          "output_type": "display_data",
          "data": {
            "image/png": "[encoded data removed]",
            "text/plain": [
              "<Figure size 432x288 with 1 Axes>"
            ]
          },
          "metadata": {
            "needs_background": "light"
          }
        }
      ]
    },
    {
      "cell_type": "markdown",
      "metadata": {
        "id": "iGN19NoNFd6e"
      },
      "source": [
        "Load existing trained models (run this instead of the training block for just evaluation)"
      ]
    },
    {
      "cell_type": "code",
      "metadata": {
        "id": "X7kmuXbuFgGM"
      },
      "source": [
        "resnet50_pretrained = torchvision.models.resnet50(pretrained = True).to(device)\n",
        "num_ftrs = resnet50_pretrained.fc.in_features\n",
        "resnet50_pretrained.fc = nn.Linear(num_ftrs, 5) # (1,2,3,4) for label types, 0 for null crops \n",
        "resnet50_pretrained.load_state_dict(torch.load(\"drive/My Drive/sidewalk_cv/ft_resnet50.pt\"))\n",
        "resnet50_pretrained.to(device)\n",
        "\n",
        "loss_func = nn.CrossEntropyLoss()"
      ],
      "execution_count": null,
      "outputs": []
    },
    {
      "cell_type": "markdown",
      "metadata": {
        "id": "sHD3NP7HhHJd"
      },
      "source": [
        "Evaluate resnet on test dataset for accuracy/loss"
      ]
    },
    {
      "cell_type": "code",
      "metadata": {
        "id": "U3TYd1iYhL_-",
        "colab": {
          "base_uri": "https://localhost:8080/",
          "height": 530
        },
        "outputId": "74edbbce-a926-4a3b-e4f4-539d14d8d030"
      },
      "source": [
        "# Make sure to evaluate on *_pretrained if loading pretrained model\n",
        "test_accuracy, test_loss, cm = evaluate(resnet50_pretrained, loss_func, test_dataloader, True)\n",
        "print(\"Test accuracy for ResNet as FT: \", test_accuracy)\n",
        "print(\"Test loss for ResNet as FT: \", test_loss)\n",
        "# print(train_set.img_labels[:50])\n",
        "if cm is not None:\n",
        "  plot_confusion_matrix(cm, [\"null\", \"curb ramp\", \"missing ramp\", \"obstruction\", \"sfc problem\"])"
      ],
      "execution_count": null,
      "outputs": [
        {
          "output_type": "stream",
          "name": "stdout",
          "text": [
            "[[2793   57   67   25   79]\n",
            " [ 206  483   35    7   40]\n",
            " [ 169   32  354    4   49]\n",
            " [  99    4    6   54    8]\n",
            " [ 201   16   24    6  227]]\n",
            "Test accuracy for ResNet as FT:  0.775222993062438\n",
            "Test loss for ResNet as FT:  0.6507622864130586\n",
            "Confusion matrix, without normalization\n",
            "[[2793   57   67   25   79]\n",
            " [ 206  483   35    7   40]\n",
            " [ 169   32  354    4   49]\n",
            " [  99    4    6   54    8]\n",
            " [ 201   16   24    6  227]]\n"
          ]
        },
        {
          "output_type": "display_data",
          "data": {
            "image/png": "[encoded data removed]",
            "text/plain": [
              "<Figure size 432x288 with 2 Axes>"
            ]
          },
          "metadata": {
            "needs_background": "light"
          }
        }
      ]
    }
  ]
}